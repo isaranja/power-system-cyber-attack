{
 "cells": [
  {
   "cell_type": "code",
   "execution_count": null,
   "metadata": {},
   "outputs": [],
   "source": [
    "# loading required libraries\n",
    "import pandas as pd\n",
    "import numpy as np\n",
    "\n",
    "# to display all the output\n",
    "from IPython.core.interactiveshell import InteractiveShell\n",
    "InteractiveShell.ast_node_interactivity = \"all\""
   ]
  },
  {
   "cell_type": "code",
   "execution_count": 1,
   "metadata": {},
   "outputs": [
    {
     "name": "stderr",
     "output_type": "stream",
     "text": [
      "'7z' is not recognized as an internal or external command,\n",
      "operable program or batch file.\n"
     ]
    }
   ],
   "source": [
    "# dataset download for windows pc\n",
    "!curl http://www.ece.uah.edu/~thm0009/icsdatasets/binaryAllNaturalPlusNormalVsAttacks.7z --output data\\\\binaryAllNaturalPlusNormalVsAttacks.7z\n",
    "!7z e data\\\\binaryAllNaturalPlusNormalVsAttacks.7z"
   ]
  },
  {
   "cell_type": "code",
   "execution_count": null,
   "metadata": {},
   "outputs": [],
   "source": [
    "df = pd.read_csv('data\\\\binary-all-natural-plus-normal-vs-attacks\\data1.csv')\n",
    "df.shape"
   ]
  },
  {
   "cell_type": "code",
   "execution_count": null,
   "metadata": {},
   "outputs": [],
   "source": [
    "def eda_feature_category(df,reg_str):\n",
    "    dfl =  df.filter(regex=reg_str)\n",
    "    dfl.head()\n",
    "    dfl.describe()   \n",
    "    fig, axs = plt.subplots(figsize=(20, 10),nrows=dfl.shape[1])\n",
    "    for ax,col in enumerate(list(dfl)):\n",
    "        axs[ax].plot(dfl.index, dfl[col].values);"
   ]
  },
  {
   "cell_type": "code",
   "execution_count": null,
   "metadata": {},
   "outputs": [],
   "source": [
    "eda_feature_category(df,'R[1-4]:F')"
   ]
  },
  {
   "cell_type": "code",
   "execution_count": null,
   "metadata": {},
   "outputs": [],
   "source": [
    "x = np.linspace(0, 2 * np.pi, 400)\n",
    "y = np.sin(x ** 2)\n",
    "fig, ax = plt.subplots(2)\n",
    "fig.suptitle('Vertically stacked subplots')\n",
    "ax[0].plot(x, y)\n",
    "ax[1].plot(x, -y)"
   ]
  },
  {
   "cell_type": "markdown",
   "metadata": {},
   "source": [
    "### Phase A - C Voltage Phase Angle"
   ]
  },
  {
   "cell_type": "code",
   "execution_count": null,
   "metadata": {},
   "outputs": [],
   "source": [
    "df1 = df.filter(regex='R[1-4]-PA[1-4]:VH')"
   ]
  },
  {
   "cell_type": "code",
   "execution_count": null,
   "metadata": {},
   "outputs": [],
   "source": [
    "df1.head()"
   ]
  },
  {
   "cell_type": "code",
   "execution_count": null,
   "metadata": {},
   "outputs": [],
   "source": [
    "df1.describe()"
   ]
  },
  {
   "cell_type": "markdown",
   "metadata": {},
   "source": [
    "### Phase A - C Voltage Phase Magnitude"
   ]
  },
  {
   "cell_type": "code",
   "execution_count": null,
   "metadata": {},
   "outputs": [],
   "source": [
    "# filtering the columns\n",
    "df2 = df.filter(regex='R[1-4]-PM[1-4]:V')\n",
    "## replaicing 0 value with previous value\n",
    "df2 = df2.replace(0,np.NaN)\n",
    "df2 = df2.fillna(method='ffill')\n",
    "df2.head()"
   ]
  },
  {
   "cell_type": "code",
   "execution_count": null,
   "metadata": {},
   "outputs": [],
   "source": [
    "df2.describe()"
   ]
  },
  {
   "cell_type": "markdown",
   "metadata": {},
   "source": [
    "### Phase A - C Current Phase Angle"
   ]
  },
  {
   "cell_type": "code",
   "execution_count": null,
   "metadata": {
    "scrolled": true
   },
   "outputs": [],
   "source": [
    "# filtering the columns\n",
    "df3 = df.filter(regex='R[1-4]-PA[4-6]:IH')\n",
    "## replaicing 0 value with previous value\n",
    "#df2 = df2.replace(0,np.NaN)\n",
    "#df2 = df2.fillna(method='ffill')\n",
    "df3.head()"
   ]
  },
  {
   "cell_type": "code",
   "execution_count": null,
   "metadata": {},
   "outputs": [],
   "source": [
    "df3.describe()"
   ]
  },
  {
   "cell_type": "code",
   "execution_count": null,
   "metadata": {
    "scrolled": true
   },
   "outputs": [],
   "source": [
    "plt.plot(df3.index, df3['R1-PA4:IH'].values);"
   ]
  },
  {
   "cell_type": "markdown",
   "metadata": {},
   "source": [
    "### Phase A - C Current Phase Magnitude"
   ]
  },
  {
   "cell_type": "code",
   "execution_count": null,
   "metadata": {},
   "outputs": [],
   "source": [
    "# filtering the columns\n",
    "df4 = df.filter(regex='R[1-4]-PM[4-6]:I')\n",
    "## replaicing 0 value with previous value\n",
    "#df2 = df2.replace(0,np.NaN)\n",
    "#df2 = df2.fillna(method='ffill')\n",
    "df4.head()"
   ]
  },
  {
   "cell_type": "code",
   "execution_count": null,
   "metadata": {},
   "outputs": [],
   "source": [
    "df4.describe()"
   ]
  },
  {
   "cell_type": "code",
   "execution_count": null,
   "metadata": {},
   "outputs": [],
   "source": [
    "plt.plot(df4.index, df4['R1-PM4:I'].values);"
   ]
  },
  {
   "cell_type": "markdown",
   "metadata": {},
   "source": [
    "### Pos. – Neg. – Zero Voltage Phase Angle"
   ]
  },
  {
   "cell_type": "code",
   "execution_count": null,
   "metadata": {},
   "outputs": [],
   "source": [
    "# filtering the columns\n",
    "df5 = df.filter(regex='R[1-4]-PA[7-9]:VH')\n",
    "## replaicing 0 value with previous value\n",
    "#df2 = df2.replace(0,np.NaN)\n",
    "#df2 = df2.fillna(method='ffill')\n",
    "df5.head()"
   ]
  },
  {
   "cell_type": "code",
   "execution_count": null,
   "metadata": {},
   "outputs": [],
   "source": [
    "plt.plot(df5.index, df5['R1-PA8:VH'].values);"
   ]
  },
  {
   "cell_type": "code",
   "execution_count": null,
   "metadata": {},
   "outputs": [],
   "source": [
    "df5.describe()"
   ]
  },
  {
   "cell_type": "markdown",
   "metadata": {},
   "source": [
    "### Pos. – Neg. – Zero Voltage Phase Magnitude "
   ]
  },
  {
   "cell_type": "code",
   "execution_count": null,
   "metadata": {},
   "outputs": [],
   "source": [
    "# filtering the columns\n",
    "df6 = df.filter(regex='R[1-4]-PM[7-9]:V')\n",
    "## replaicing 0 value with previous value\n",
    "#df2 = df2.replace(0,np.NaN)\n",
    "#df2 = df2.fillna(method='ffill')\n",
    "df6.head()"
   ]
  },
  {
   "cell_type": "code",
   "execution_count": null,
   "metadata": {},
   "outputs": [],
   "source": [
    "plt.plot(df6.index, df6['R1-PM8:V'].values);"
   ]
  },
  {
   "cell_type": "markdown",
   "metadata": {},
   "source": [
    "### Pos. – Neg. – Zero Current Phase Angle"
   ]
  },
  {
   "cell_type": "code",
   "execution_count": null,
   "metadata": {},
   "outputs": [],
   "source": [
    "# filtering the columns\n",
    "df7 = df.filter(regex='R[1-4]-PA1[0-2]:IH')\n",
    "## replaicing 0 value with previous value\n",
    "#df2 = df2.replace(0,np.NaN)\n",
    "#df2 = df2.fillna(method='ffill')\n",
    "df7.head()"
   ]
  },
  {
   "cell_type": "code",
   "execution_count": null,
   "metadata": {},
   "outputs": [],
   "source": [
    "df7.describe()"
   ]
  },
  {
   "cell_type": "code",
   "execution_count": null,
   "metadata": {},
   "outputs": [],
   "source": [
    "plt.plot(df7.index, df7['R1-PA11:IH'].values);"
   ]
  },
  {
   "cell_type": "markdown",
   "metadata": {},
   "source": [
    "### Pos. – Neg. – Zero Current Phase Magnitude "
   ]
  },
  {
   "cell_type": "code",
   "execution_count": null,
   "metadata": {},
   "outputs": [],
   "source": [
    "# filtering the columns\n",
    "df8 = df.filter(regex='R[1-4]-PM1[0-2]:I')\n",
    "## replaicing 0 value with previous value\n",
    "#df2 = df2.replace(0,np.NaN)\n",
    "#df2 = df2.fillna(method='ffill')\n",
    "df8.head()"
   ]
  },
  {
   "cell_type": "code",
   "execution_count": null,
   "metadata": {},
   "outputs": [],
   "source": [
    "plt.plot(df8.index, df8['R1-PM10:I'].values);"
   ]
  },
  {
   "cell_type": "markdown",
   "metadata": {},
   "source": [
    "### Frequency for relays"
   ]
  },
  {
   "cell_type": "code",
   "execution_count": null,
   "metadata": {},
   "outputs": [],
   "source": [
    "# filtering the columns\n",
    "df9 = df.filter(regex='R[1-4]:F')\n",
    "## replaicing 0 value with previous value\n",
    "#df2 = df2.replace(0,np.NaN)\n",
    "#df2 = df2.fillna(method='ffill')\n",
    "df9.head()"
   ]
  },
  {
   "cell_type": "code",
   "execution_count": null,
   "metadata": {},
   "outputs": [],
   "source": [
    "plt.plot(df9.index, df9['R2:F'].values);"
   ]
  },
  {
   "cell_type": "markdown",
   "metadata": {},
   "source": [
    "### Frequency Delta (dF/dt) for relays"
   ]
  },
  {
   "cell_type": "code",
   "execution_count": null,
   "metadata": {},
   "outputs": [],
   "source": [
    "# filtering the columns\n",
    "df10 = df.filter(regex='R[1-4]:DF')\n",
    "## replaicing 0 value with previous value\n",
    "#df2 = df2.replace(0,np.NaN)\n",
    "#df2 = df2.fillna(method='ffill')\n",
    "df10.head()"
   ]
  },
  {
   "cell_type": "code",
   "execution_count": null,
   "metadata": {},
   "outputs": [],
   "source": [
    "plt.plot(df10.index, df10['R1:DF'].values);"
   ]
  },
  {
   "cell_type": "markdown",
   "metadata": {},
   "source": [
    "### Appearance Impedance for relays"
   ]
  },
  {
   "cell_type": "code",
   "execution_count": null,
   "metadata": {},
   "outputs": [],
   "source": [
    "# filtering the columns\n",
    "df11 = df.filter(regex='R[1-4]-PA:Z')\n",
    "## replaicing 0 value with previous value\n",
    "#df2 = df2.replace(0,np.NaN)\n",
    "#df2 = df2.fillna(method='ffill')\n",
    "df11.head()"
   ]
  },
  {
   "cell_type": "code",
   "execution_count": null,
   "metadata": {},
   "outputs": [],
   "source": [
    "plt.plot(df11.index, df11['R1-PA:Z'].values);"
   ]
  },
  {
   "cell_type": "markdown",
   "metadata": {},
   "source": [
    "### Appearance Impedance Angle for relays"
   ]
  },
  {
   "cell_type": "code",
   "execution_count": null,
   "metadata": {},
   "outputs": [],
   "source": [
    "# filtering the columns\n",
    "df12 = df.filter(regex='R[1-4]-PA:ZH')\n",
    "## replaicing 0 value with previous value\n",
    "#df2 = df2.replace(0,np.NaN)\n",
    "#df2 = df2.fillna(method='ffill')\n",
    "df12.head()"
   ]
  },
  {
   "cell_type": "code",
   "execution_count": null,
   "metadata": {},
   "outputs": [],
   "source": [
    "plt.plot(df12.index, df12['R4-PA:ZH'].values);"
   ]
  },
  {
   "cell_type": "markdown",
   "metadata": {},
   "source": [
    "### Status Flag for relays"
   ]
  },
  {
   "cell_type": "code",
   "execution_count": null,
   "metadata": {},
   "outputs": [],
   "source": [
    "# filtering the columns\n",
    "df13 = df.filter(regex='R[1-4]:S')\n",
    "## replaicing 0 value with previous value\n",
    "#df2 = df2.replace(0,np.NaN)\n",
    "#df2 = df2.fillna(method='ffill')\n",
    "df13.head()"
   ]
  },
  {
   "cell_type": "code",
   "execution_count": null,
   "metadata": {},
   "outputs": [],
   "source": [
    "plt.plot(df13.index, df13['R4:S'].values);"
   ]
  },
  {
   "cell_type": "code",
   "execution_count": null,
   "metadata": {},
   "outputs": [],
   "source": [
    "df13.describe()"
   ]
  },
  {
   "cell_type": "code",
   "execution_count": null,
   "metadata": {},
   "outputs": [],
   "source": []
  }
 ],
 "metadata": {
  "kernelspec": {
   "display_name": "Python 3",
   "language": "python",
   "name": "python3"
  },
  "language_info": {
   "codemirror_mode": {
    "name": "ipython",
    "version": 3
   },
   "file_extension": ".py",
   "mimetype": "text/x-python",
   "name": "python",
   "nbconvert_exporter": "python",
   "pygments_lexer": "ipython3",
   "version": "3.7.4"
  }
 },
 "nbformat": 4,
 "nbformat_minor": 2
}
